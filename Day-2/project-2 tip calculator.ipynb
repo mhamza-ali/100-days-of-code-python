{
 "cells": [
  {
   "cell_type": "code",
   "execution_count": 7,
   "metadata": {},
   "outputs": [
    {
     "name": "stdout",
     "output_type": "stream",
     "text": [
      "Welcome to the tip calculator!\n",
      "What was the total bill? $150\n",
      "How much tip would you like to give? 10, 12, or 15? 12\n",
      "how many people to split bill? 5\n",
      "Each person should pay $30.02\n"
     ]
    }
   ],
   "source": [
    "# Project: Tip Calculator\n",
    "\n",
    "# if the bill was $150.00 split between 5 people with 12% tip\n",
    "# each person shpuld pay(150.00 / 5) * 1.12 = 33.6\n",
    "# round the result to 2 deciaml places = 33.60\n",
    "\n",
    "print(\"Welcome to the tip calculator!\")\n",
    "bill = float(input(\"What was the total bill? $\"))\n",
    "tip = float(input(\"How much tip would you like to give? 10, 12, or 15? \"))\n",
    "people = int(input(\"how many people to split bill? \"))\n",
    "tip_as_percent = tip / 100\n",
    "total_tip_amount = bill * tip_as_percent\n",
    "total_bill = bill + tip_as_percent\n",
    "bill_per_person = total_bill / people\n",
    "final_amount = round(bill_per_person, 2)\n",
    "final_amount = \"{:.2f}\".format(bill_per_person)\n",
    "print(f\"Each person should pay ${final_amount}\")"
   ]
  },
  {
   "cell_type": "code",
   "execution_count": null,
   "metadata": {},
   "outputs": [],
   "source": []
  }
 ],
 "metadata": {
  "kernelspec": {
   "display_name": "Python 3",
   "language": "python",
   "name": "python3"
  },
  "language_info": {
   "codemirror_mode": {
    "name": "ipython",
    "version": 3
   },
   "file_extension": ".py",
   "mimetype": "text/x-python",
   "name": "python",
   "nbconvert_exporter": "python",
   "pygments_lexer": "ipython3",
   "version": "3.8.5"
  }
 },
 "nbformat": 4,
 "nbformat_minor": 4
}
